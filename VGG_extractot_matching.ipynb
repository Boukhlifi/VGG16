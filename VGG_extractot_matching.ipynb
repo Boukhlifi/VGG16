{
  "nbformat": 4,
  "nbformat_minor": 0,
  "metadata": {
    "colab": {
      "name": "VGG_extractot_matching.ipynb",
      "provenance": [],
      "collapsed_sections": [],
      "authorship_tag": "ABX9TyO3IyIwFHKh5ptwzRfHOdSt",
      "include_colab_link": true
    },
    "kernelspec": {
      "name": "python3",
      "display_name": "Python 3"
    }
  },
  "cells": [
    {
      "cell_type": "markdown",
      "metadata": {
        "id": "view-in-github",
        "colab_type": "text"
      },
      "source": [
        "<a href=\"https://colab.research.google.com/github/Boukhlifi/VGG16/blob/main/VGG_extractot_matching.ipynb\" target=\"_parent\"><img src=\"https://colab.research.google.com/assets/colab-badge.svg\" alt=\"Open In Colab\"/></a>"
      ]
    },
    {
      "cell_type": "code",
      "metadata": {
        "id": "VvJefTpo1eyc"
      },
      "source": [
        "from keras.preprocessing.image import load_img\r\n",
        "from keras.preprocessing.image import img_to_array\r\n",
        "from keras.applications.vgg16 import VGG16\r\n",
        "from keras.applications.vgg16 import preprocess_input\r\n",
        "import numpy as np\r\n",
        "from keras.models import Model "
      ],
      "execution_count": 33,
      "outputs": []
    },
    {
      "cell_type": "code",
      "metadata": {
        "id": "F6fV5Q3c36H-"
      },
      "source": [
        "#creation de modéle VGG mais en gardant que les couches d'extractions des caractéristiques\r\n",
        "#cad que je vais enlever la derniere couche de fully connected qui contient 1000 neuronnes\r\n",
        "#parcque le modele a été entrainé sur IMageNet qui contient 1000 classes\r\n",
        "def create_model_descriptor():\r\n",
        "  vgg_descriptor = VGG16()\r\n",
        "  vgg_descriptor.layers.pop() #supression de quelques couches\r\n",
        "  vgg_descriptor = Model(inputs = vgg_descriptor.inputs, outputs = vgg_descriptor.layers[-2].output)\r\n",
        "  vgg_descriptor.summary()\r\n",
        "  #create de VGG_imageNet without the last layer\r\n",
        "  return vgg_descriptor"
      ],
      "execution_count": 34,
      "outputs": []
    },
    {
      "cell_type": "code",
      "metadata": {
        "id": "tH2THldf36T4"
      },
      "source": [
        "#faire des prétrétement sur l'image pourqu'elle soit compatible avec la basse de donnes imageNet qui été\r\n",
        "#entrainné par le modele  VGG16\r\n",
        "def preprocess_image(image_path):\r\n",
        "  img = load_img(image_path, target_size=(224,224))  #redimensionner l'image chargeé\r\n",
        "  img = img_to_array(img)\r\n",
        "  img = img.reshape(1, img.shape[0], img.shape[1], img.shape[2])#to shape (1,n,m,3) car imageNet est sous cette forme là\r\n",
        "  img = preprocess_input(img)#pour convertir l'image RGB to BGR,et transmettre l'image a la gamme [-1,1](centrage à ZERo)\r\n",
        "  return img "
      ],
      "execution_count": 35,
      "outputs": []
    },
    {
      "cell_type": "code",
      "metadata": {
        "id": "_QROtmEd36V7"
      },
      "source": [
        "#cette fonction va nous generer un vecteur de caractéristique de l'image d'entré\r\n",
        "def get_image_representation(vgg_descriptor, img):\r\n",
        "  return vgg_descriptor.predict(preprocess_image(img))[0,:]"
      ],
      "execution_count": 36,
      "outputs": []
    },
    {
      "cell_type": "code",
      "metadata": {
        "id": "iPXC2Odc36ZD"
      },
      "source": [
        "#le calcule de la distance entre deux descripteurs\r\n",
        "def findeuclidienDistance(source_representation, test_representation):\r\n",
        "  euclidean_distance = source_representation - test_representation\r\n",
        "  euclidean_distance = np.sum(np.multiply(euclidean_distance, euclidean_distance))\r\n",
        "  euclidean_distance = np.sqrt(euclidean_distance)\r\n",
        "  return euclidean_distance"
      ],
      "execution_count": 50,
      "outputs": []
    },
    {
      "cell_type": "code",
      "metadata": {
        "id": "_F4M-y_I36a5"
      },
      "source": [
        "#cette fonction verifie si les deux images sont similaires ou non avec un taux d'acceptation epsilon\r\n",
        "def verify(vgg_descriptor, img1, img2, epsilon=90):\r\n",
        "  img1_representaion = get_image_representation(vgg_descriptor, img1)\r\n",
        "  img2_representaion = get_image_representation(vgg_descriptor, img2)\r\n",
        "  distance_euclidien = findeuclidienDistance(img1_representaion, img2_representaion)\r\n",
        "  print(\"distance euclidien : \",distance_euclidien)\r\n",
        "  if distance_euclidien < epsilon:\r\n",
        "    print(\"they are the same objects\")\r\n",
        "  else:\r\n",
        "    print(\"they are not the same objects\")"
      ],
      "execution_count": 41,
      "outputs": []
    },
    {
      "cell_type": "code",
      "metadata": {
        "colab": {
          "base_uri": "https://localhost:8080/"
        },
        "id": "FXkJEiOB36fp",
        "outputId": "8b0da1ed-d9be-408d-aeca-127d46d70c7c"
      },
      "source": [
        "from google.colab import drive\r\n",
        "drive.mount(\"/content/drive\")"
      ],
      "execution_count": 39,
      "outputs": [
        {
          "output_type": "stream",
          "text": [
            "Drive already mounted at /content/drive; to attempt to forcibly remount, call drive.mount(\"/content/drive\", force_remount=True).\n"
          ],
          "name": "stdout"
        }
      ]
    },
    {
      "cell_type": "code",
      "metadata": {
        "colab": {
          "base_uri": "https://localhost:8080/"
        },
        "id": "O8tEd5jH36hD",
        "outputId": "96ef9c29-54b3-449c-8f5c-ee3cde4ff785"
      },
      "source": [
        "if __name__ == \"__main__\":\r\n",
        "  vgg_descriptor = create_model_descriptor()\r\n",
        "  verify(vgg_descriptor, \"/content/drive/My Drive/Colab Notebooks/mug1.jpg\",\"/content/drive/My Drive/Colab Notebooks/mug2.jpg\" , epsilon=90)\r\n",
        "  features = get_image_representation(vgg_descriptor, \"/content/drive/My Drive/Colab Notebooks/mug1.jpg\")\r\n",
        "  print(\"le descrpteur est de taille : \",features.shape)\r\n"
      ],
      "execution_count": 54,
      "outputs": [
        {
          "output_type": "stream",
          "text": [
            "Model: \"model_15\"\n",
            "_________________________________________________________________\n",
            "Layer (type)                 Output Shape              Param #   \n",
            "=================================================================\n",
            "input_17 (InputLayer)        [(None, 224, 224, 3)]     0         \n",
            "_________________________________________________________________\n",
            "block1_conv1 (Conv2D)        (None, 224, 224, 64)      1792      \n",
            "_________________________________________________________________\n",
            "block1_conv2 (Conv2D)        (None, 224, 224, 64)      36928     \n",
            "_________________________________________________________________\n",
            "block1_pool (MaxPooling2D)   (None, 112, 112, 64)      0         \n",
            "_________________________________________________________________\n",
            "block2_conv1 (Conv2D)        (None, 112, 112, 128)     73856     \n",
            "_________________________________________________________________\n",
            "block2_conv2 (Conv2D)        (None, 112, 112, 128)     147584    \n",
            "_________________________________________________________________\n",
            "block2_pool (MaxPooling2D)   (None, 56, 56, 128)       0         \n",
            "_________________________________________________________________\n",
            "block3_conv1 (Conv2D)        (None, 56, 56, 256)       295168    \n",
            "_________________________________________________________________\n",
            "block3_conv2 (Conv2D)        (None, 56, 56, 256)       590080    \n",
            "_________________________________________________________________\n",
            "block3_conv3 (Conv2D)        (None, 56, 56, 256)       590080    \n",
            "_________________________________________________________________\n",
            "block3_pool (MaxPooling2D)   (None, 28, 28, 256)       0         \n",
            "_________________________________________________________________\n",
            "block4_conv1 (Conv2D)        (None, 28, 28, 512)       1180160   \n",
            "_________________________________________________________________\n",
            "block4_conv2 (Conv2D)        (None, 28, 28, 512)       2359808   \n",
            "_________________________________________________________________\n",
            "block4_conv3 (Conv2D)        (None, 28, 28, 512)       2359808   \n",
            "_________________________________________________________________\n",
            "block4_pool (MaxPooling2D)   (None, 14, 14, 512)       0         \n",
            "_________________________________________________________________\n",
            "block5_conv1 (Conv2D)        (None, 14, 14, 512)       2359808   \n",
            "_________________________________________________________________\n",
            "block5_conv2 (Conv2D)        (None, 14, 14, 512)       2359808   \n",
            "_________________________________________________________________\n",
            "block5_conv3 (Conv2D)        (None, 14, 14, 512)       2359808   \n",
            "_________________________________________________________________\n",
            "block5_pool (MaxPooling2D)   (None, 7, 7, 512)         0         \n",
            "_________________________________________________________________\n",
            "flatten (Flatten)            (None, 25088)             0         \n",
            "_________________________________________________________________\n",
            "fc1 (Dense)                  (None, 4096)              102764544 \n",
            "_________________________________________________________________\n",
            "fc2 (Dense)                  (None, 4096)              16781312  \n",
            "=================================================================\n",
            "Total params: 134,260,544\n",
            "Trainable params: 134,260,544\n",
            "Non-trainable params: 0\n",
            "_________________________________________________________________\n",
            "WARNING:tensorflow:6 out of the last 12 calls to <function Model.make_predict_function.<locals>.predict_function at 0x7fbca99369d8> triggered tf.function retracing. Tracing is expensive and the excessive number of tracings could be due to (1) creating @tf.function repeatedly in a loop, (2) passing tensors with different shapes, (3) passing Python objects instead of tensors. For (1), please define your @tf.function outside of the loop. For (2), @tf.function has experimental_relax_shapes=True option that relaxes argument shapes that can avoid unnecessary retracing. For (3), please refer to https://www.tensorflow.org/guide/function#controlling_retracing and https://www.tensorflow.org/api_docs/python/tf/function for  more details.\n",
            "distance euclidien :  58.54492\n",
            "they are the same objects\n",
            "le descrpteur est de taille :  (4096,)\n"
          ],
          "name": "stdout"
        }
      ]
    },
    {
      "cell_type": "code",
      "metadata": {
        "id": "Fj7fzpvz36iV"
      },
      "source": [
        "r"
      ],
      "execution_count": null,
      "outputs": []
    },
    {
      "cell_type": "code",
      "metadata": {
        "id": "KB_xzcuz36kJ"
      },
      "source": [
        ""
      ],
      "execution_count": null,
      "outputs": []
    },
    {
      "cell_type": "code",
      "metadata": {
        "id": "ZOkdr_Hc36nc"
      },
      "source": [
        ""
      ],
      "execution_count": null,
      "outputs": []
    },
    {
      "cell_type": "code",
      "metadata": {
        "id": "CENIbmE236pT"
      },
      "source": [
        ""
      ],
      "execution_count": null,
      "outputs": []
    },
    {
      "cell_type": "code",
      "metadata": {
        "id": "n23oLfKg36ss"
      },
      "source": [
        ""
      ],
      "execution_count": null,
      "outputs": []
    }
  ]
}